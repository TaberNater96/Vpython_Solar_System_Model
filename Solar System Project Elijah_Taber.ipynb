{
 "cells": [
  {
   "cell_type": "code",
   "execution_count": null,
   "metadata": {
    "scrolled": true
   },
   "outputs": [
    {
     "data": {
      "text/html": [
       "<div id=\"glowscript\" class=\"glowscript\"></div>"
      ],
      "text/plain": [
       "<IPython.core.display.HTML object>"
      ]
     },
     "metadata": {},
     "output_type": "display_data"
    },
    {
     "data": {
      "application/javascript": [
       "if (typeof Jupyter !== \"undefined\") { window.__context = { glowscript_container: $(\"#glowscript\").removeAttr(\"id\")};}else{ element.textContent = ' ';}"
      ],
      "text/plain": [
       "<IPython.core.display.Javascript object>"
      ]
     },
     "metadata": {},
     "output_type": "display_data"
    },
    {
     "name": "stdout",
     "output_type": "stream",
     "text": [
      "\n",
      "Welcome to Elijah's solar system project 2.0!\n",
      "Press the play button when the simulation is ready and select the planet you wish to follow around the Sun!\n",
      "Make sure and scroll in to see the inner planets.\n",
      "      \n"
     ]
    },
    {
     "data": {
      "application/javascript": [
       "if (typeof Jupyter !== \"undefined\") {require.undef(\"nbextensions/vpython_libraries/glow.min\");}else{element.textContent = ' ';}"
      ],
      "text/plain": [
       "<IPython.core.display.Javascript object>"
      ]
     },
     "metadata": {},
     "output_type": "display_data"
    },
    {
     "data": {
      "application/javascript": [
       "if (typeof Jupyter !== \"undefined\") {require.undef(\"nbextensions/vpython_libraries/glowcomm\");}else{element.textContent = ' ';}"
      ],
      "text/plain": [
       "<IPython.core.display.Javascript object>"
      ]
     },
     "metadata": {},
     "output_type": "display_data"
    },
    {
     "data": {
      "application/javascript": [
       "if (typeof Jupyter !== \"undefined\") {require.undef(\"nbextensions/vpython_libraries/jquery-ui.custom.min\");}else{element.textContent = ' ';}"
      ],
      "text/plain": [
       "<IPython.core.display.Javascript object>"
      ]
     },
     "metadata": {},
     "output_type": "display_data"
    },
    {
     "data": {
      "application/javascript": [
       "if (typeof Jupyter !== \"undefined\") {require([\"nbextensions/vpython_libraries/glow.min\"], function(){console.log(\"GLOW LOADED\");});}else{element.textContent = ' ';}"
      ],
      "text/plain": [
       "<IPython.core.display.Javascript object>"
      ]
     },
     "metadata": {},
     "output_type": "display_data"
    },
    {
     "data": {
      "application/javascript": [
       "if (typeof Jupyter !== \"undefined\") {require([\"nbextensions/vpython_libraries/glowcomm\"], function(){console.log(\"GLOWCOMM LOADED\");});}else{element.textContent = ' ';}"
      ],
      "text/plain": [
       "<IPython.core.display.Javascript object>"
      ]
     },
     "metadata": {},
     "output_type": "display_data"
    },
    {
     "data": {
      "application/javascript": [
       "if (typeof Jupyter !== \"undefined\") {require([\"nbextensions/vpython_libraries/jquery-ui.custom.min\"], function(){console.log(\"JQUERY LOADED\");});}else{element.textContent = ' ';}"
      ],
      "text/plain": [
       "<IPython.core.display.Javascript object>"
      ]
     },
     "metadata": {},
     "output_type": "display_data"
    }
   ],
   "source": [
    "\"\"\"\n",
    "\n",
    "Vpython Solar Sytem Project 2.0\n",
    "\n",
    "Created By: Elijah Taber\n",
    "Date: June 10, 2021\n",
    "\n",
    "\"\"\"\n",
    "\n",
    "from vpython import *\n",
    "import numpy as np\n",
    "\n",
    "print(\"\"\"\n",
    "Welcome to Elijah's solar system project 2.0!\n",
    "Please restart the Kernal before running the simulation.\n",
    "Press the play button when the simulation is ready and select the planet you wish to follow around the Sun!\n",
    "Make sure and scroll in to see the inner planets.\n",
    "      \"\"\")\n",
    "\n",
    "#Radius of each planetary object in km\n",
    "sunRadius = 69550\n",
    "mercuryRadius = 2440\n",
    "venusRadius = 6052\n",
    "earthRadius = 6371\n",
    "marsRadius = 3386\n",
    "jupiterRadius = 69173\n",
    "saturnRadius = 57316\n",
    "saturnRingRadius = 120134\n",
    "uranusRadius = 25362\n",
    "neptuneRadius = 24622\n",
    "plutoRadius = 1188.3\n",
    "\n",
    "#Orbital radius of each planet around the Sun in km\n",
    "sunOrbitRadius = 1.0\n",
    "mercuryOrbitRadius = 69.27e6\n",
    "venusOrbitRadius = 107.49e6\n",
    "earthOrbitRadius = 151.78e6\n",
    "marsOrbitRadius = 249.63e6\n",
    "jupiterOrbitRadius = 755.36e6\n",
    "saturnOrbitRadius = 1.4875e9\n",
    "uranusOrbitRadius = 2.9543e9\n",
    "neptuneOrbitRadius = 4.4754e9\n",
    "plutoOrbitRadius = 5.9e9\n",
    "\n",
    "#Creating the spherical objects for each planet and the Sun\n",
    "#Note if the user wishes to remove the make trail, then simply set it to False\n",
    "sun = sphere( radius = sunRadius, texture = \"https://i.imgur.com/XdRTvzj.jpg\", emissive = True )\n",
    "mercury = sphere( radius = mercuryRadius, texture = \"https://i.imgur.com/SLgVbwD.jpg\", make_trail = True, trail_radius = mercuryRadius * 0.5 )\n",
    "venus = sphere( radius = venusRadius, texture = \"https://i.imgur.com/7VTEX2w.jpeg\", make_trail = True, trail_color = color.green, trail_radius = venusRadius * 0.5 )\n",
    "earth = sphere( radius = earthRadius, texture = textures.earth, make_trail = True, trail_color = color.blue, trail_radius = earthRadius * 0.5 )\n",
    "mars = sphere( radius = marsRadius, texture = \"https://i.imgur.com/Mwsa16j.jpg\", make_trail = True, trail_color = color.red, trail_radius = marsRadius * 0.5 ) \n",
    "jupiter = sphere( radius = jupiterRadius, texture = \"https://i.imgur.com/RMMtt0K.jpg\", make_trail = True, trail_color = color.orange, trail_radius = jupiterRadius * 0.5 )\n",
    "saturn = sphere( radius = saturnRadius, texture = \"https://i.imgur.com/02Kt4gy.jpg\", make_trail = True, trail_color = color.yellow, trail_radius = saturnRadius * 0.5 )\n",
    "uranus = sphere( radius = uranusRadius, texture = \"https://i.imgur.com/2kZNvFw.jpg\", make_trail = True, trail_color = color.cyan, trail_radius = uranusRadius * 0.5 )\n",
    "neptune = sphere( radius = neptuneRadius, texture = \"https://i.imgur.com/lyLpoMk.jpg\", make_trail = True, trail_color = color.blue, trail_radius = neptuneRadius * 0.5 )\n",
    "pluto = sphere( radius = plutoRadius, texture = \"https://i.imgur.com/ds7WOMu.jpg\", make_trail = True, trail_color = vector(1,0.7,0.2), trail_radius = plutoRadius * 0.5 )\n",
    "\n",
    "solar_system = {'Sun': sun, 'Mercury': mercury, 'Venus': venus, 'Earth': earth, 'Mars': mars,\n",
    "                    'Jupiter': jupiter, 'Saturn': saturn, 'Uranus': uranus, 'Neptune': neptune, 'Pluto': pluto}\n",
    "\n",
    "#Orbital Period, these values represent how many Earth days each planet orbits the Sun, therefore\n",
    "#the orbital rate will be the inverse of these values as seen in the loop function\n",
    "sunOrbitRate = 27.0 #rotates around its axis once per 27 Earth days\n",
    "mercuryOrbitRate = 88.0\n",
    "venusOrbitRate = 224.7\n",
    "earthOrbitRate = 365.3\n",
    "marsOrbitRate = 687.0\n",
    "jupiterOrbitRate = 4331.6\n",
    "saturnOrbitRate = 10759.2\n",
    "uranusOrbitRate = 30660\n",
    "neptuneOrbitRate = 60225\n",
    "plutoOrbitRate = 90520\n",
    "\n",
    "#Ecliptic coordinates for axial tilt rotation, these values are correlated to\n",
    "#their given rotational tilt (or epsilon) with respect to the 2D orbital plane \n",
    "#that revolves around the Sun, the numbers are converted from degrees to radians\n",
    "sunEpsilon = radians(0.1265364)\n",
    "mercuryEpslion = radians(0.0349066)\n",
    "venusEpsilon = radians(0.0523599)\n",
    "earthEpsilon = radians(0.4101524)\n",
    "marsEpsilon = radians(0.43964844)\n",
    "jupiterEpsilon = radians(0.0349066)\n",
    "saturnEpsilon = radians(0.471239)\n",
    "uranusEpsilon = radians(1.71042)\n",
    "neptuneEpsilon = radians(0.488692)\n",
    "plutoEpsilon = radians(0.994838)\n",
    "\n",
    "#Initialize each planet's angle on a single 2D plane around the Sun\n",
    "mercuryAngle = 0\n",
    "venusAngle = 0\n",
    "earthAngle = 0\n",
    "marsAngle = 0\n",
    "jupiterAngle = 0\n",
    "saturnAngle = 0\n",
    "uranusAngle = 0\n",
    "neptuneAngle = 0\n",
    "plutoAngle = 0\n",
    "\n",
    "#The following variables define glowscripts graphing capabilities that plots the position of the planet's orbit around the \n",
    "#Sun in real time. If the user wishes to see the progression of the plotting for the planets faster, then set the rate to a\n",
    "#higher number\n",
    "tgraph = graph(title = \"Position of Planets Orbiting the Sun\", xtitle=\"Position in x-direction (km)\", ytitle=\"Position in z-direction(km)\", background = color.black)\n",
    "rm = gcurve(color = color.white, label=\"Mercury\")\n",
    "rv = gcurve(color = color.green, label = \"Venus\")\n",
    "re = gcurve(color = color.magenta, label = \"Earth\")\n",
    "rM = gcurve(color = color.red, label = \"Mars\" )\n",
    "rj = gcurve(color = color.orange, label = \"Jupiter\")\n",
    "rs = gcurve(color = color.yellow, label = \"Saturn\")\n",
    "ru = gcurve(color = color.cyan, label = \"Uranus\")\n",
    "rn = gcurve(color = color.blue, label = \"Neptune\")\n",
    "rp = gcurve(color = vector(1,0.7,0.2), label = \"Pluto\")\n",
    "\n",
    "#Creates a subtle sunlight animation to give the full affect of the Sun on each planet\n",
    "sunlight = local_light( pos = vec(0,0,0), color=color.white )\n",
    "\n",
    "#Initializing a standard rate for how fast the program will animate\n",
    "programSpeed = 1.0\n",
    "\n",
    "#Pauses the animation at the beginning in order to allow the user to scroll in and find the planet they want to view\n",
    "scene.pause() \n",
    "\n",
    "#This is the only consistent way I could figure out to make make a space background for the animation, but unfortunately\n",
    "#vpython is very glitchy when inside of another sphere and only looks good when viewed from middle to outer planets. If the\n",
    "#user wishes to implement the following code into the program, the stars will disappear around the orbit of Mars\n",
    "\"\"\"\n",
    "sphere(pos=vector(0,0,0),texture=\"https://i.imgur.com/1nVWbbd.jpg\",radius=45e6,shininess=0)\n",
    "\"\"\"\n",
    "\n",
    "#This function allows the user to select a planetary object in order to have the camera follow it\n",
    "def camera_menu(m):\n",
    "    if m.selected in solar_system:\n",
    "        scene.camera.follow(solar_system[m.selected])\n",
    "\n",
    "#If the user wishes to roam freely around the solar system, then comment out the following line\n",
    "menu(choices=list(solar_system.keys()), bind=camera_menu, pos=scene.title_anchor) \n",
    "\n",
    "#Continuously change the position of each planet around the Sun in the x and z plane\n",
    "while (True):\n",
    "    #To simulate the real orbital speeds of our solar system, set rate to the painfully slow speed of 1 \n",
    "    rate(150) \n",
    "    #Note that the orbital radius of each planet is scaled down by 1/150th so that the user can see and compare the distances \n",
    "    #of each planet. If the user wishes to view the full scale of our solar system, each planet will be incredibly far away\n",
    "    #from one another (especially past Jupiter) and will not be able to see other planets since our solar system is so big\n",
    "    #and glowscript does not handle distant onjects very well\n",
    "    mercury.pos = vec( mercuryOrbitRadius/150 * cos(radians(mercuryAngle)), 0, mercuryOrbitRadius/150 * sin(radians(mercuryAngle)) ) \n",
    "    venus.pos = vec( venusOrbitRadius/150 * cos(radians(venusAngle)), 0, venusOrbitRadius/150 * sin(radians(venusAngle)) ) \n",
    "    earth.pos = vec( earthOrbitRadius/150 * cos(radians(earthAngle)), 0, earthOrbitRadius/150 * sin(radians(earthAngle)) )\n",
    "    mars.pos = vec( marsOrbitRadius/150 * cos(radians(marsAngle)), 0, marsOrbitRadius/150 * sin(radians(marsAngle)) ) \n",
    "    jupiter.pos = vec( jupiterOrbitRadius/150 * cos(radians(jupiterAngle)), 0, jupiterOrbitRadius/150 * sin(radians(jupiterAngle)) ) \n",
    "    saturn.pos = vec( saturnOrbitRadius/150 * cos(radians(saturnAngle)), 0, saturnOrbitRadius/150 * sin(radians(saturnAngle)) ) \n",
    "    uranus.pos = vec( uranusOrbitRadius/150 * cos(radians(uranusAngle)), 0, uranusOrbitRadius/150 * sin(radians(uranusAngle)) )\n",
    "    neptune.pos = vec( neptuneOrbitRadius/150 * cos(radians(neptuneAngle)), 0, neptuneOrbitRadius/150 * sin(radians(neptuneAngle)) )\n",
    "    pluto.pos = vec( plutoOrbitRadius/150 * cos(radians(plutoAngle)), 0, plutoOrbitRadius/150 * sin(radians(plutoAngle)) )\n",
    "    \n",
    "    #Creating the orbital speed ratio for each planet, the closer the planet is to the Sun, the faster the rate will be\n",
    "    mercuryAngle -= 1/mercuryOrbitRate * programSpeed\n",
    "    venusAngle -= 1/venusOrbitRate * programSpeed\n",
    "    earthAngle -= 1/earthOrbitRate * programSpeed\n",
    "    marsAngle -= 1/marsOrbitRate * programSpeed\n",
    "    jupiterAngle -= 1/jupiterOrbitRate * programSpeed\n",
    "    saturnAngle -= 1/saturnOrbitRate * programSpeed\n",
    "    uranusAngle -= 1/uranusOrbitRate * programSpeed\n",
    "    neptuneAngle -= 1/neptuneOrbitRate * programSpeed\n",
    "    plutoAngle -= 1/plutoOrbitRate * programSpeed\n",
    "    \n",
    "    #Rotating each celestial body about its respective axis, each planetary object aside from Mercury has both a rotation\n",
    "    #and a tilt with respect to the solar systems 2D orbital plane. The axial tilt values that was converted into radians\n",
    "    #earlier are now vectorized using eccliptic vector formulas for a 3D objecct that is angled in the x-y plane\n",
    "    sun.rotate (angle = sunEpsilon, axis = vector(np.sin(sunEpsilon), np.cos(sunEpsilon), 0))\n",
    "    #Mercury is tidally locked to the Sun and does not rotate on its axis, but does have a slight tilt\n",
    "    mercury.rotate (angle = 0, axis = vector(np.sin(mercuryEpslion), np.cos(mercuryEpslion), 0))\n",
    "    venus.rotate (angle = venusEpsilon, axis = vector(np.sin(venusEpsilon), np.cos(venusEpsilon), 0))\n",
    "    earth.rotate (angle = earthEpsilon, axis = vector(np.sin(earthEpsilon), np.cos(earthEpsilon), 0))\n",
    "    mars.rotate (angle = marsEpsilon, axis = vector(np.sin(marsEpsilon), np.cos(marsEpsilon), 0))\n",
    "    jupiter.rotate (angle = jupiterEpsilon, axis = vector(np.sin(jupiterEpsilon), np.cos(jupiterEpsilon), 0))\n",
    "    saturn.rotate (angle = saturnEpsilon, axis = vector(np.sin(saturnEpsilon), np.cos(saturnEpsilon), 0))\n",
    "    uranus.rotate (angle = uranusEpsilon, axis = vector(np.sin(uranusEpsilon), np.cos(uranusEpsilon), 0))\n",
    "    neptune.rotate (angle = neptuneEpsilon, axis = vector(np.sin(neptuneEpsilon), np.cos(neptuneEpsilon), 0))\n",
    "    pluto.rotate (angle = plutoEpsilon, axis = vector(np.sin(plutoEpsilon), np.cos(plutoEpsilon), 0))\n",
    "    \n",
    "    #Plotting the real time positions of each planet around the Sun\n",
    "    rm.plot(mercury.pos.x, mercury.pos.z)\n",
    "    rv.plot(venus.pos.x, venus.pos.z)\n",
    "    re.plot(earth.pos.x, earth.pos.z)\n",
    "    rM.plot(mars.pos.x, mars.pos.z)\n",
    "    rj.plot(jupiter.pos.x, jupiter.pos.z)\n",
    "    rs.plot(saturn.pos.x, saturn.pos.z)\n",
    "    ru.plot(uranus.pos.x, uranus.pos.z)\n",
    "    rn.plot(neptune.pos.x, neptune.pos.z)\n",
    "    rp.plot(pluto.pos.x, pluto.pos.z)\n",
    "    \n"
   ]
  }
 ],
 "metadata": {
  "kernelspec": {
   "display_name": "Python 3",
   "language": "python",
   "name": "python3"
  },
  "language_info": {
   "codemirror_mode": {
    "name": "ipython",
    "version": 3
   },
   "file_extension": ".py",
   "mimetype": "text/x-python",
   "name": "python",
   "nbconvert_exporter": "python",
   "pygments_lexer": "ipython3",
   "version": "3.8.5"
  }
 },
 "nbformat": 4,
 "nbformat_minor": 5
}
